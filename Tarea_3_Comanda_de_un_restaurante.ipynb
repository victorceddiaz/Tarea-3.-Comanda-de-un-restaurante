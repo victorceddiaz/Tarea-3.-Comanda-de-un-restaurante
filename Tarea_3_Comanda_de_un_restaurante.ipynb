{
  "nbformat": 4,
  "nbformat_minor": 0,
  "metadata": {
    "colab": {
      "name": "Tarea 3 Comanda de un restaurante.ipynb",
      "provenance": [],
      "collapsed_sections": [],
      "authorship_tag": "ABX9TyPSvGnCaqEwo5AOTH/281ue",
      "include_colab_link": true
    },
    "kernelspec": {
      "name": "python3",
      "display_name": "Python 3"
    },
    "language_info": {
      "name": "python"
    }
  },
  "cells": [
    {
      "cell_type": "markdown",
      "metadata": {
        "id": "view-in-github",
        "colab_type": "text"
      },
      "source": [
        "<a href=\"https://colab.research.google.com/github/victorceddiaz/Tarea-3.-Comanda-de-un-restaurante/blob/main/Tarea_3_Comanda_de_un_restaurante.ipynb\" target=\"_parent\"><img src=\"https://colab.research.google.com/assets/colab-badge.svg\" alt=\"Open In Colab\"/></a>"
      ]
    },
    {
      "cell_type": "markdown",
      "metadata": {
        "id": "6gPRhzGPV7NV"
      },
      "source": [
        "##Tarea 3. Programa que permite levantar la comanda de un restaurante.\n",
        "\n",
        "Alumno: Cedillo Díaz Victor Antonio \n",
        "\n",
        "Grupo: 1360\n",
        "\n",
        "Materia: Estructura de Datos"
      ]
    },
    {
      "cell_type": "code",
      "metadata": {
        "colab": {
          "base_uri": "https://localhost:8080/"
        },
        "id": "r7DCOizkV6EJ",
        "outputId": "ce96254c-37f7-445d-d62d-e89aacd2392e"
      },
      "source": [
        "def comanda(**pedido) :\n",
        "    print(pedido)\n",
        "    print(\"\\n\" + \"Detalles : \")\n",
        "    print(\"     MENÚ : \" + pedido['mesas'])\n",
        "    print(\"     COMENSAL : \" + pedido['comensales'])\n",
        "    print(\"     ENTRADA : \" + pedido['entradas'])\n",
        "    print(\"     MEDIO : \" + pedido['medios'])\n",
        "    print(\"     FUERTE : \" + pedido['fuertes'])\n",
        "    print(\"     ADICIONALES : \" + pedido['adicionales'])   \n",
        "\n",
        "mesa=input(\"¿Cual es su mesa? : \")\n",
        "comensal=input(\"Indique su número de comensal : \")\n",
        "entrada=input(\"Escriba el platillo de entrada que desea ordenar : \")\n",
        "medio=input(\"Escriba el platillo medio que desea ordenar : \")\n",
        "fuerte=input(\"Escriba el platillo fuerte que desea ordenar : \")\n",
        "adicional=input(\"Escriba alguna nota adicional acerca de los platillos : \")\n",
        "\n",
        "comanda(mesas = mesa, comensales = comensal, entradas = entrada, medios = medio, fuertes = fuerte, adicionales = adicional)"
      ],
      "execution_count": null,
      "outputs": [
        {
          "output_type": "stream",
          "name": "stdout",
          "text": [
            "¿Cual es su mesa? : 2\n",
            "Indique su número de comensal : 3\n",
            "Escriba el platillo de entrada que desea ordenar : ensalada\n",
            "Escriba el platillo medio que desea ordenar : crema\n",
            "Escriba el platillo fuerte que desea ordenar : filete\n",
            "Escriba alguna nota adicional acerca de los platillos : filete ternino medio, ensalsada son semillas\n",
            "{'mesas': '2', 'comensales': '3', 'entradas': 'ensalada', 'medios': 'crema', 'fuertes': 'filete', 'adicionales': 'filete ternino medio, ensalsada son semillas'}\n",
            "\n",
            "Detalles : \n",
            "     MENÚ : 2\n",
            "     COMENSAL : 3\n",
            "     ENTRADA : ensalada\n",
            "     MEDIO : crema\n",
            "     FUERTE : filete\n",
            "     ADICIONALES : filete ternino medio, ensalsada son semillas\n"
          ]
        }
      ]
    }
  ]
}